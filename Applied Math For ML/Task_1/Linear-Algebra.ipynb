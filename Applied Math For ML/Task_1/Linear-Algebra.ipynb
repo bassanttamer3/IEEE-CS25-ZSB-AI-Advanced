{
 "cells": [
  {
   "cell_type": "markdown",
   "metadata": {},
   "source": [
    "**By:** *Ahmed Sharaf*"
   ]
  },
  {
   "cell_type": "markdown",
   "metadata": {},
   "source": [
    "In this notebook you will practice how to:\n",
    "1. Calculate the determinant of a 2x2 matrix with and without using numpy.linalg\n",
    "2. Calculate the determinant of a 3x3 matrix with and without using numpy.linalg\n",
    "3. Calculate the inverse of a 2x2 matrix using numpy.linalg\n",
    "4. Calculate the inverse of a 3x3 matrix using numpy.linalg\n",
    "5. Finding the rank of a matrix using numpy"
   ]
  },
  {
   "cell_type": "markdown",
   "metadata": {},
   "source": [
    "### Notice\n",
    "\n",
    "**Please Note:**  \n",
    "When writing code, make sure to place it in the designated area marked with `# code here`.  \n",
    "If there is a `pass` keyword in the code, please remove it and replace it with the required code."
   ]
  },
  {
   "cell_type": "markdown",
   "metadata": {},
   "source": [
    "# Calculating the determinant using numpy.linalg"
   ]
  },
  {
   "cell_type": "code",
   "execution_count": 151,
   "metadata": {},
   "outputs": [],
   "source": [
    "import numpy as np"
   ]
  },
  {
   "cell_type": "code",
   "execution_count": 152,
   "metadata": {},
   "outputs": [
    {
     "name": "stdout",
     "output_type": "stream",
     "text": [
      "[[1 2]\n",
      " [3 4]]\n"
     ]
    }
   ],
   "source": [
    "a2 = np.array([[1,2],[3,4]])\n",
    "print(a2)"
   ]
  },
  {
   "cell_type": "code",
   "execution_count": 153,
   "metadata": {},
   "outputs": [
    {
     "name": "stdout",
     "output_type": "stream",
     "text": [
      "[[ 1  1  2]\n",
      " [ 2  3  1]\n",
      " [ 3  4 -5]]\n"
     ]
    }
   ],
   "source": [
    "a3 = np.array([[1,1,2],[2,3,1],[3,4,-5]])\n",
    "print(a3)"
   ]
  },
  {
   "cell_type": "code",
   "execution_count": 154,
   "metadata": {},
   "outputs": [
    {
     "name": "stdout",
     "output_type": "stream",
     "text": [
      "-2\n",
      "-8\n"
     ]
    }
   ],
   "source": [
    "## Determinate of a2, a3\n",
    "det_a2=(a2[0][0]*a2[1][1])-(a2[0][1]*a2[1][0])\n",
    "print(det_a2)\n",
    "\n",
    "det_a3 = (a3[0][0] * ((a3[1][1] * a3[2][2]) - (a3[1][2] * a3[2][1]))) - \\\n",
    "         (a3[0][1] * ((a3[1][0] * a3[2][2]) - (a3[1][2] * a3[2][0]))) + \\\n",
    "         (a3[0][2] * ((a3[1][0] * a3[2][1]) - (a3[1][1] * a3[2][0])))\n",
    "\n",
    "print(det_a3)"
   ]
  },
  {
   "cell_type": "markdown",
   "metadata": {},
   "source": [
    "# Calculating the determinant of a 2x2 matrixwithout using numpy"
   ]
  },
  {
   "cell_type": "code",
   "execution_count": 155,
   "metadata": {},
   "outputs": [
    {
     "name": "stdout",
     "output_type": "stream",
     "text": [
      "-2\n"
     ]
    }
   ],
   "source": [
    "def Det2(Mat):\n",
    "    if len(Mat) == 2 and len(Mat[0]) == 2 and len(Mat[1]) == 2:\n",
    "        return (Mat[0][0] * Mat[1][1]) - (Mat[0][1] * Mat[1][0])\n",
    "    else:\n",
    "        return \"Invalid matrix size\"\n",
    "\n",
    "print(Det2(a2))"
   ]
  },
  {
   "cell_type": "markdown",
   "metadata": {},
   "source": [
    "# Calculating the determinant of a 3x3 matrixwithout using numpy\n",
    "\n",
    "One idea\n",
    "1. write a function to calculate the minor matrices. (hint, use slices)\n",
    "2. write a function to calculate the cofactors (this should call the first function, and the determinant function)\n",
    "3. the determinant function calls the function in step two and adds the results together.\n",
    "\n",
    "Another idea \n",
    "use recursion ==> code credit https://stackoverflow.com/questions/3819500/code-to-solve-determinant-using-python-without-using-scipy-linalg-det"
   ]
  },
  {
   "cell_type": "code",
   "execution_count": 156,
   "metadata": {},
   "outputs": [
    {
     "name": "stdout",
     "output_type": "stream",
     "text": [
      "[[ 1  2  3  4]\n",
      " [ 5  6  7  8]\n",
      " [ 9 10 11 12]]\n",
      "[[ 1  2  3  4]\n",
      " [ 9 10 11 12]]\n",
      "[[ 1  2  3]\n",
      " [ 5  6  7]\n",
      " [ 9 10 11]]\n",
      "[[ 1  2  3  4]\n",
      " [ 5  6  7  8]\n",
      " [ 9 10 11 12]]\n"
     ]
    }
   ],
   "source": [
    "# delete function removes a sub-array from the input array\n",
    "# first argument is the original array\n",
    "# second argument is the index to the sub-array to be removed\n",
    "# third argument is the axis among which the deletion happens (0: x axis \"row\" and 1: y axis \"column\")\n",
    "arr = np.array([[1,2,3,4], [5,6,7,8], [9,10,11,12]])\n",
    "print(arr)\n",
    "#axis=0>>row\n",
    "arr2 = np.delete(arr, 1, 0)\n",
    "print(arr2)\n",
    "#axis=1>col\n",
    "arr3 = np.delete(arr, 3, 1)\n",
    "print(arr3)\n",
    "print(arr)"
   ]
  },
  {
   "cell_type": "code",
   "execution_count": 157,
   "metadata": {},
   "outputs": [
    {
     "name": "stdout",
     "output_type": "stream",
     "text": [
      "[[ 1  1  2]\n",
      " [ 2  3  1]\n",
      " [ 3  4 -5]]\n",
      "-8\n"
     ]
    }
   ],
   "source": [
    "def minor(arr,i,j):\n",
    "      return np.delete(np.delete(arr, i, axis=0), j, axis=1)\n",
    "\n",
    "def det(arr):\n",
    "    if len(arr) == 2:\n",
    "        return arr[0][0] * arr[1][1] - arr[0][1] * arr[1][0]\n",
    "\n",
    "    determinant = 0\n",
    "    for j in range(len(arr[0])):\n",
    "        cofactor = (-1) ** j * arr[0][j] * det(minor(arr, 0, j))\n",
    "\n",
    "        determinant += cofactor\n",
    "\n",
    "    return determinant\n",
    "\n",
    "print(a3)\n",
    "print(det(a3))\n"
   ]
  },
  {
   "cell_type": "markdown",
   "metadata": {},
   "source": [
    "# Calculating the inverse using numpy.linalg"
   ]
  },
  {
   "cell_type": "code",
   "execution_count": 158,
   "metadata": {},
   "outputs": [
    {
     "name": "stdout",
     "output_type": "stream",
     "text": [
      "[[1 2]\n",
      " [3 4]]\n",
      "[[-2.   1. ]\n",
      " [ 1.5 -0.5]]\n"
     ]
    },
    {
     "data": {
      "text/plain": [
       "'\\ndef inverse_2x2(matrix):\\n    det = (matrix[0, 0] * matrix[1, 1]) - (matrix[0, 1] * matrix[1, 0])\\n    if det == 0:\\n        return \"no solution\"\\n    inv_matrix = (1 / det) * np.array([\\n        [matrix[1, 1], -matrix[0, 1]],\\n        [-matrix[1, 0], matrix[0, 0]]\\n    ])\\n    \\n    return inv_matrix\\n\\ninv_a2 = inverse_2x2(a2)\\nprint(inv_a2) \\n'"
      ]
     },
     "execution_count": 158,
     "metadata": {},
     "output_type": "execute_result"
    }
   ],
   "source": [
    "# The inverse of 2 x 2 matrix\n",
    "\n",
    "a2 = np.array([[1,2],[3,4]])\n",
    "\n",
    "print(a2)\n",
    "inv_a2 = np.linalg.inv(a2)\n",
    "print(inv_a2)\n",
    "\n",
    "\"\"\"\n",
    "def inverse_2x2(matrix):\n",
    "    det = (matrix[0, 0] * matrix[1, 1]) - (matrix[0, 1] * matrix[1, 0])\n",
    "    if det == 0:\n",
    "        return \"no solution\"\n",
    "    inv_matrix = (1 / det) * np.array([\n",
    "        [matrix[1, 1], -matrix[0, 1]],\n",
    "        [-matrix[1, 0], matrix[0, 0]]\n",
    "    ])\n",
    "    \n",
    "    return inv_matrix\n",
    "\n",
    "inv_a2 = inverse_2x2(a2)\n",
    "print(inv_a2) \n",
    "\"\"\"\n"
   ]
  },
  {
   "cell_type": "code",
   "execution_count": 159,
   "metadata": {},
   "outputs": [
    {
     "name": "stdout",
     "output_type": "stream",
     "text": [
      "[[1 2]\n",
      " [2 4]]\n",
      "not allow\n"
     ]
    }
   ],
   "source": [
    "# The inverse of a singular matrix\n",
    "\n",
    "a3 = np.array([[1,2],[2,4]])\n",
    "\n",
    "print(a3)\n",
    "\n",
    "det_a3 = np.linalg.det(a3)\n",
    "\n",
    "if det_a3 == 0:\n",
    "    print(\"not allow\")\n",
    "else:\n",
    "    inv_a3 = np.linalg.inv(a3)\n",
    "    print(inv_a3)\n",
    "        \n"
   ]
  },
  {
   "cell_type": "code",
   "execution_count": 160,
   "metadata": {},
   "outputs": [
    {
     "name": "stdout",
     "output_type": "stream",
     "text": [
      "[[ 0.17647059 -0.00326797 -0.02287582]\n",
      " [ 0.05882353 -0.13071895  0.08496732]\n",
      " [-0.11764706  0.1503268   0.05228758]]\n"
     ]
    }
   ],
   "source": [
    "# The inverse of 3 x 3 matrix\n",
    "\n",
    "A = np.array([[6, 1, 1],\n",
    "              [4, -2, 5],\n",
    "              [2, 8, 7]])\n",
    "  \n",
    "# Calculating the inverse of the matrix\n",
    "inv_A = np.linalg.inv(A)\n",
    "print(inv_A)\n"
   ]
  },
  {
   "cell_type": "code",
   "execution_count": 161,
   "metadata": {
    "scrolled": true
   },
   "outputs": [
    {
     "name": "stdout",
     "output_type": "stream",
     "text": [
      "[[[-2.    1.  ]\n",
      "  [ 1.5  -0.5 ]]\n",
      "\n",
      " [[-1.25  0.75]\n",
      "  [ 0.75 -0.25]]]\n"
     ]
    }
   ],
   "source": [
    "# Inverses of several matrices can\n",
    "# be computed at once\n",
    "\n",
    "A = np.array([[[1., 2.], \n",
    "               [3., 4.]],\n",
    "              [[1, 3], \n",
    "               [3, 5]]])\n",
    "  \n",
    "# Calculating the inverse of the matrix\n",
    "inverses = np.linalg.inv(A)\n",
    "\n",
    "print(inverses)"
   ]
  },
  {
   "cell_type": "markdown",
   "metadata": {},
   "source": [
    "# Calculating the inverse of a 2x2 matrixwithout using numpy"
   ]
  },
  {
   "cell_type": "markdown",
   "metadata": {},
   "source": [
    "1. Code a function to calculate the determinant of 2x2 matrix\n",
    "2. Code a function that interchange the diagonal elements of a 2x2 matrix and inverse the sign of the off diagonal elements\n",
    "3. Code a function to compute the inverse of 2x2 matrix based on the two previous functions if it exists"
   ]
  },
  {
   "cell_type": "code",
   "execution_count": 162,
   "metadata": {},
   "outputs": [
    {
     "name": "stdout",
     "output_type": "stream",
     "text": [
      "[[np.float64(-2.0), np.float64(1.0)], [np.float64(1.5), np.float64(-0.5)]]\n"
     ]
    }
   ],
   "source": [
    "#step -1- we already coded the det function that works for 2x2 and nxn size matrix\n",
    "def det(A):\n",
    "    return A[0, 0] * A[1, 1] - A[0, 1] * A[1, 0]\n",
    "#step -2-\n",
    "def interchangeMatrix(A):\n",
    "   return [[A[1, 1], -A[0, 1]], [-A[1, 0], A[0, 0]]]\n",
    "\n",
    "#step -3-\n",
    "def inverse2x2(A):\n",
    "    determinant = det(A)\n",
    "    if determinant == 0:\n",
    "        return \"No solution\"\n",
    "    result = interchangeMatrix(A)\n",
    "    inverse_matrix = [[result[0][0] / determinant, result[0][1] / determinant],\n",
    "                      [result[1][0] / determinant, result[1][1] / determinant]]\n",
    "    \n",
    "    return inverse_matrix\n",
    "\n",
    "      \n",
    "\n",
    "a2 = np.array([[1,2],[3,4]])\n",
    "print(inverse2x2(a2))"
   ]
  },
  {
   "cell_type": "markdown",
   "metadata": {},
   "source": [
    "# Calculating the inverse of a 3x3 matrixwithout using numpy"
   ]
  },
  {
   "cell_type": "markdown",
   "metadata": {},
   "source": [
    "# Use the adjoint matrix method\n",
    "\n",
    "Coding a Python code to inverse a 3x3 matrix (no numpy.linalg.inv allowed):\n",
    "1. Coding a function that checks if a 3x3 matrix is invertible\n",
    "2. Coding a function that generates the transpose of a 3x3 matrix\n",
    "3. Coding a function that generates the matrix of minors of a 3x3 matrix\n",
    "4. Coding a function that generates the matrix of cofactors of a 3x3 matrix\n",
    "5. Coding a function that generates the inverse of a 3x3 matrix if it exists\n"
   ]
  },
  {
   "cell_type": "code",
   "execution_count": 163,
   "metadata": {},
   "outputs": [
    {
     "name": "stdout",
     "output_type": "stream",
     "text": [
      "[[np.float64(0.17647058823529413), np.float64(-0.0032679738562091504), np.float64(-0.022875816993464054)], [np.float64(0.05882352941176469), np.float64(-0.13071895424836602), np.float64(0.08496732026143787)], [np.float64(-0.11764705882352941), np.float64(0.1503267973856209), np.float64(0.0522875816993464)]]\n",
      "[[ 0.17647059 -0.00326797 -0.02287582]\n",
      " [ 0.05882353 -0.13071895  0.08496732]\n",
      " [-0.11764706  0.1503268   0.05228758]]\n"
     ]
    }
   ],
   "source": [
    "#step -1- a matrix is invertible only if its determinant != 0\n",
    "def invertible(A):\n",
    "    det = (A[0][0] * (A[1][1] * A[2][2] - A[1][2] * A[2][1])) - \\\n",
    "          (A[0][1] * (A[1][0] * A[2][2] - A[1][2] * A[2][0])) + \\\n",
    "          (A[0][2] * (A[1][0] * A[2][1] - A[1][1] * A[2][0]))\n",
    "    return det != 0\n",
    "\n",
    "#step -2- rows and columns could be interchanged without the need of built-in methods\n",
    "def transposeM(A):\n",
    "    return [[A[j][i] for j in range(len(A))] for i in range(len(A[0]))]\n",
    "\n",
    "#step -3- we coded that previously minor(arr,i,j)\n",
    "\n",
    "#step -4- Calculating the matrix of cofactors (minors determinants multiplied by signs)\n",
    "def cofactors(A):\n",
    "    cofactors_matrix = []\n",
    "    for i in range(3):\n",
    "        row = []\n",
    "        for j in range(3):\n",
    "            cofactor_value = ((-1) ** (i + j)) * np.linalg.det(minor(A, i, j))\n",
    "            row.append(cofactor_value)\n",
    "        cofactors_matrix.append(row)\n",
    "    return cofactors_matrix\n",
    "\n",
    "\n",
    "\n",
    "#step -5- Inverse is the transpose of the cofactor matrix divided by the determinant of the original/input matrix\n",
    "def inverse3x3(A):\n",
    "    if not invertible(A):\n",
    "        return \"Matrix is not invertible\"\n",
    "    det_A = (A[0][0] * (A[1][1] * A[2][2] - A[1][2] * A[2][1])) - \\\n",
    "            (A[0][1] * (A[1][0] * A[2][2] - A[1][2] * A[2][0])) + \\\n",
    "            (A[0][2] * (A[1][0] * A[2][1] - A[1][1] * A[2][0]))\n",
    "    cofactor_matrix = cofactors(A)\n",
    "    adjugate_matrix = transposeM(cofactor_matrix)        \n",
    "    inverse_matrix = [[adjugate_matrix[i][j] / det_A for j in range(3)] for i in range(3)]\n",
    "    \n",
    "    return inverse_matrix\n",
    "\n",
    "B = np.array([[6, 1, 1],\n",
    "              [4, -2, 5],\n",
    "              [2, 8, 7]])\n",
    "\n",
    "print(inverse3x3(B))\n",
    "\n",
    "#[ 0.17647059 -0.00326797 -0.02287582]\n",
    "# [ 0.05882353 -0.13071895  0.08496732]\n",
    "# [-0.11764706  0.1503268   0.05228758]]\n",
    "#check\n",
    "print(np.linalg.inv(B))"
   ]
  },
  {
   "cell_type": "markdown",
   "metadata": {},
   "source": [
    "# Finding the rank of a matrix using numpy"
   ]
  },
  {
   "cell_type": "code",
   "execution_count": 164,
   "metadata": {},
   "outputs": [
    {
     "name": "stdout",
     "output_type": "stream",
     "text": [
      "1\n"
     ]
    }
   ],
   "source": [
    "a3 = np.array([[1,2],[2,4]])\n",
    "\n",
    "rank_a3 = np.linalg.matrix_rank(a3)\n",
    "print(rank_a3)"
   ]
  }
 ],
 "metadata": {
  "kernelspec": {
   "display_name": "Python 3",
   "language": "python",
   "name": "python3"
  },
  "language_info": {
   "codemirror_mode": {
    "name": "ipython",
    "version": 3
   },
   "file_extension": ".py",
   "mimetype": "text/x-python",
   "name": "python",
   "nbconvert_exporter": "python",
   "pygments_lexer": "ipython3",
   "version": "3.13.0"
  }
 },
 "nbformat": 4,
 "nbformat_minor": 4
}
