{
 "cells": [
  {
   "cell_type": "markdown",
   "metadata": {
    "id": "Dz2Bb7vBWf7N"
   },
   "source": [
    "Exercise: Polynomial Regression\n",
    "\n",
    "Get some practice implementing polynomial regression in this exercise. In data.csv, you can see data generated for one predictor feature ('Var_X') and one outcome feature ('Var_Y'), following a non-linear trend. Use sklearn's PolynomialFeatures(opens in a new tab) class to extend the predictor feature column into multiple columns with polynomial features. Play around with different degrees of polynomial and the Test Run button to see what fits best: when you think you have the best-fitting degree, press the Submit button to check your work!\n",
    "\n",
    "Perform the following steps below:\n",
    "1. Load in the data\n",
    "\n",
    "The data is in the file called 'data.csv'. Note that this data has a header line.\n",
    "Make sure that you've split out the data into the predictor feature in X and outcome feature in y.\n",
    "For X, make sure it is in a 2-d array of 20 rows by 1 column. You might need to use NumPy's reshape(opens in a new tab) function to accomplish this.\n",
    "2. Create polynomial features\n",
    "\n",
    "Create an instance of sklearn's PolynomialFeatures(opens in a new tab) class and assign it to the variable poly_feat. Pay attention to how to set the degree of features, since that will be how the exercise is evaluated.\n",
    "Create the polynomial features by using the PolynomialFeatures object's .fit_transform()(opens in a new tab) method. The \"fit\" side of the method considers how many features are needed in the output, and the \"transform\" side applies those considerations to the data provided to the method as an argument. Assign the new feature matrix to the X_poly variable.\n",
    "3. Build a polynomial regression model\n",
    "\n",
    "Create a polynomial regression model by combining sklearn's LinearRegression(opens in a new tab) class with the polynomial features. Assign the fit model to poly_model."
   ]
  },
  {
   "cell_type": "code",
   "execution_count": 1,
   "metadata": {
    "id": "zpeNhx3FWeCR"
   },
   "outputs": [],
   "source": [
    "# TODO: Add import statements\n",
    "import numpy as np\n",
    "import pandas as pd\n",
    "from sklearn.linear_model import LinearRegression\n",
    "from sklearn.preprocessing import PolynomialFeatures"
   ]
  },
  {
   "cell_type": "code",
   "execution_count": 3,
   "metadata": {
    "id": "k3trftmkWeCU"
   },
   "outputs": [],
   "source": [
    "# Assign the data to predictor and outcome variables\n",
    "# TODO: Load the data\n",
    "train_data = pd.read_csv('data.csv' ,  header=None)\n",
    "X = train_data[[0]]  \n",
    "y = train_data[1]"
   ]
  },
  {
   "cell_type": "code",
   "execution_count": 4,
   "metadata": {
    "id": "-eura8xSWeCU"
   },
   "outputs": [],
   "source": [
    "# Create polynomial features\n",
    "# TODO: Create a PolynomialFeatures object, then fit and transform the\n",
    "# predictor feature\n",
    "poly_feat = PolynomialFeatures(degree=2)\n",
    "X_poly = poly_feat.fit_transform(X)"
   ]
  },
  {
   "cell_type": "code",
   "execution_count": 5,
   "metadata": {
    "id": "oNVMw85aWeCV"
   },
   "outputs": [
    {
     "name": "stdout",
     "output_type": "stream",
     "text": [
      "Coefficients: [0.46899669]\n",
      "Intercept: 1.969817227829172\n"
     ]
    }
   ],
   "source": [
    "# Make and fit the polynomial regression model\n",
    "# TODO: Create a LinearRegression object and fit it to the polynomial predictor\n",
    "# features\n",
    "poly_model = LinearRegression()\n",
    "poly_model.fit(X,y)\n",
    "\n",
    "print(f\"Coefficients: {poly_model.coef_}\")\n",
    "print(f\"Intercept: {poly_model.intercept_}\")"
   ]
  },
  {
   "cell_type": "code",
   "execution_count": null,
   "metadata": {
    "id": "O4vVs64HWeCV"
   },
   "outputs": [],
   "source": []
  }
 ],
 "metadata": {
  "colab": {
   "provenance": []
  },
  "kernelspec": {
   "display_name": "Python 3",
   "language": "python",
   "name": "python3"
  },
  "language_info": {
   "codemirror_mode": {
    "name": "ipython",
    "version": 3
   },
   "file_extension": ".py",
   "mimetype": "text/x-python",
   "name": "python",
   "nbconvert_exporter": "python",
   "pygments_lexer": "ipython3",
   "version": "3.13.0"
  }
 },
 "nbformat": 4,
 "nbformat_minor": 0
}
